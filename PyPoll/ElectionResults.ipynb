{
 "cells": [
  {
   "cell_type": "code",
   "execution_count": 1,
   "id": "1b0f38fe-70ae-4280-abc8-c65e1fb0ee95",
   "metadata": {},
   "outputs": [
    {
     "data": {
      "text/plain": [
       "'C:\\\\Users\\\\Patrick Yau\\\\Documents\\\\GitHub\\\\python-challenge\\\\PyPoll'"
      ]
     },
     "execution_count": 1,
     "metadata": {},
     "output_type": "execute_result"
    }
   ],
   "source": [
    "pwd"
   ]
  },
  {
   "cell_type": "code",
   "execution_count": 3,
   "id": "b0e048de-df4f-4f31-ac93-6d9b09195495",
   "metadata": {},
   "outputs": [],
   "source": [
    "#import csv\n",
    "import csv\n",
    "csvpath=\"Resources\\\\election_data.csv\""
   ]
  },
  {
   "cell_type": "code",
   "execution_count": 7,
   "id": "d18f5610-de4e-43fc-8448-2246dfc2d4a9",
   "metadata": {},
   "outputs": [],
   "source": [
    "#read files\n",
    "with open(csvpath, encoding='UTF-8') as csvfile:\n",
    "    csvreader=csv.reader(csvfile, delimiter=',')\n",
    "    csvheader=next(csvreader)\n",
    "    data=list(csvreader)"
   ]
  },
  {
   "cell_type": "code",
   "execution_count": 11,
   "id": "088fc2bc-ad17-4073-843f-e226c9706a48",
   "metadata": {},
   "outputs": [
    {
     "name": "stdout",
     "output_type": "stream",
     "text": [
      "369711\n"
     ]
    }
   ],
   "source": [
    "#calculate total votes\n",
    "total_votes=len(data)\n",
    "print(total_votes)"
   ]
  },
  {
   "cell_type": "code",
   "execution_count": 13,
   "id": "b282fabf-5886-4dd1-bed8-028da10d95b4",
   "metadata": {},
   "outputs": [
    {
     "name": "stdout",
     "output_type": "stream",
     "text": [
      "['Raymon Anthony Doane', 'Diana DeGette', 'Charles Casper Stockham']\n"
     ]
    }
   ],
   "source": [
    "#identify candiates\n",
    "candidates=list(set(row[2] for row in data))\n",
    "print(candidates)"
   ]
  },
  {
   "cell_type": "code",
   "execution_count": 17,
   "id": "34ce325d-aac0-42e9-9dfb-2c85dd5e169e",
   "metadata": {},
   "outputs": [
    {
     "name": "stdout",
     "output_type": "stream",
     "text": [
      "{'Raymon Anthony Doane': 11606, 'Diana DeGette': 272892, 'Charles Casper Stockham': 85213}\n"
     ]
    }
   ],
   "source": [
    "#calculate votes\n",
    "vote_counts={candidate: 0 for candidate in candidates}\n",
    "for row in data:\n",
    "    vote_counts[row[2]] += 1\n",
    "print(vote_counts)"
   ]
  },
  {
   "cell_type": "code",
   "execution_count": 19,
   "id": "80b9c6f2-5771-4ad2-bc50-b912db60a6e7",
   "metadata": {},
   "outputs": [
    {
     "name": "stdout",
     "output_type": "stream",
     "text": [
      "{'Raymon Anthony Doane': 3.1392087333079077, 'Diana DeGette': 73.81224794501652, 'Charles Casper Stockham': 23.04854332167558}\n"
     ]
    }
   ],
   "source": [
    "#calculate vote percentages\n",
    "vote_percentages = {candidate: (vote_counts[candidate] / total_votes) * 100 for candidate in candidates}\n",
    "print(vote_percentages)"
   ]
  },
  {
   "cell_type": "code",
   "execution_count": 21,
   "id": "0cc866e9-19e2-4243-8902-10d53010b8bd",
   "metadata": {},
   "outputs": [
    {
     "name": "stdout",
     "output_type": "stream",
     "text": [
      "Diana DeGette\n"
     ]
    }
   ],
   "source": [
    "#identify winner\n",
    "winner=max(vote_counts, key=vote_counts.get)\n",
    "print(winner)"
   ]
  },
  {
   "cell_type": "code",
   "execution_count": 23,
   "id": "4ee61559-0d51-4744-88f0-11edde009378",
   "metadata": {},
   "outputs": [],
   "source": [
    "#generate report\n",
    "report = [\n",
    "    \"Election Results\",\n",
    "    \"-------------------------\",\n",
    "    f\"Total Votes: {total_votes}\",\n",
    "    \"-------------------------\"\n",
    "]\n",
    "for candidate in candidates:\n",
    "    report.append(f\"{candidate}: {vote_percentages[candidate]:.3f}% ({vote_counts[candidate]})\")\n",
    "report.extend([\n",
    "    \"-------------------------\",\n",
    "    f\"Winner: {winner}\",\n",
    "    \"-------------------------\"\n",
    "])\n",
    "report_str = \"\\n\".join(report)"
   ]
  },
  {
   "cell_type": "code",
   "execution_count": 27,
   "id": "2a232304-0959-43ce-9a7e-2477f3af05d2",
   "metadata": {},
   "outputs": [
    {
     "name": "stdout",
     "output_type": "stream",
     "text": [
      "Election Results\n",
      "-------------------------\n",
      "Total Votes: 369711\n",
      "-------------------------\n",
      "Raymon Anthony Doane: 3.139% (11606)\n",
      "Diana DeGette: 73.812% (272892)\n",
      "Charles Casper Stockham: 23.049% (85213)\n",
      "-------------------------\n",
      "Winner: Diana DeGette\n",
      "-------------------------\n"
     ]
    }
   ],
   "source": [
    "print(report_str)"
   ]
  },
  {
   "cell_type": "code",
   "execution_count": 29,
   "id": "4e05c8de-ef35-466f-92da-06b11bfe1ce6",
   "metadata": {},
   "outputs": [],
   "source": [
    "with open('election_results.txt', 'w') as file:\n",
    "    file.write(report_str)\n"
   ]
  },
  {
   "cell_type": "code",
   "execution_count": null,
   "id": "e0028f4d-4f5a-4230-8bf9-83889f183bf1",
   "metadata": {},
   "outputs": [],
   "source": []
  }
 ],
 "metadata": {
  "kernelspec": {
   "display_name": "Python [conda env:base] *",
   "language": "python",
   "name": "conda-base-py"
  },
  "language_info": {
   "codemirror_mode": {
    "name": "ipython",
    "version": 3
   },
   "file_extension": ".py",
   "mimetype": "text/x-python",
   "name": "python",
   "nbconvert_exporter": "python",
   "pygments_lexer": "ipython3",
   "version": "3.12.7"
  }
 },
 "nbformat": 4,
 "nbformat_minor": 5
}
