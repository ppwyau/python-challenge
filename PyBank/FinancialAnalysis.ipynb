{
 "cells": [
  {
   "cell_type": "code",
   "execution_count": 7,
   "id": "87c4f831-9a79-410f-816d-360a389c3df5",
   "metadata": {},
   "outputs": [
    {
     "data": {
      "text/plain": [
       "'C:\\\\Users\\\\Patrick Yau\\\\Documents\\\\GitHub\\\\python-challenge\\\\PyBank'"
      ]
     },
     "execution_count": 7,
     "metadata": {},
     "output_type": "execute_result"
    }
   ],
   "source": [
    "pwd"
   ]
  },
  {
   "cell_type": "code",
   "execution_count": 9,
   "id": "2b135543-fddc-4b81-9e0c-34af01a74946",
   "metadata": {},
   "outputs": [],
   "source": [
    "#import csv\n",
    "import csv\n",
    "csvpath=\"Resources\\\\budget_data.csv\""
   ]
  },
  {
   "cell_type": "code",
   "execution_count": 13,
   "id": "24d37f65-8296-4e4e-8ad6-869bbf67e92b",
   "metadata": {},
   "outputs": [],
   "source": [
    "#read csv\n",
    "with open(csvpath, encoding='UTF-8') as csvfile:\n",
    "    csvreader=csv.reader(csvfile, delimiter=',')\n",
    "    csvheader=next(csvreader)\n",
    "    data=list(csvreader)"
   ]
  },
  {
   "cell_type": "code",
   "execution_count": 21,
   "id": "f01064c6-ef99-416d-a0f2-f5608bf46e77",
   "metadata": {},
   "outputs": [
    {
     "name": "stdout",
     "output_type": "stream",
     "text": [
      "86\n"
     ]
    }
   ],
   "source": [
    "#calculate total months\n",
    "total_months=len(data)\n",
    "print(total_months)"
   ]
  },
  {
   "cell_type": "code",
   "execution_count": 19,
   "id": "9a3ef5c7-db20-43db-b378-1f7ab7fe4b45",
   "metadata": {},
   "outputs": [
    {
     "name": "stdout",
     "output_type": "stream",
     "text": [
      "22564198\n"
     ]
    }
   ],
   "source": [
    "#calculate net profit/losses\n",
    "net_total=sum(int(row[1]) for row in data)\n",
    "print(net_total)"
   ]
  },
  {
   "cell_type": "code",
   "execution_count": 35,
   "id": "9ca63f3f-2dc3-4fba-9b5a-f5ddf07a1c63",
   "metadata": {},
   "outputs": [
    {
     "name": "stdout",
     "output_type": "stream",
     "text": [
      "-8311.105882352942\n"
     ]
    }
   ],
   "source": [
    "#calculate changes\n",
    "changes=[int(data[i][1])-int(data[i-1][1])\n",
    "         for i in range (1, total_months)]\n",
    "average_change=sum(changes)/len(changes)\n",
    "print(average_change)"
   ]
  },
  {
   "cell_type": "code",
   "execution_count": 39,
   "id": "ab653b1a-5676-48f9-bb7b-1d76a354fb3a",
   "metadata": {},
   "outputs": [],
   "source": [
    "#find greatest increase and decrease in profits\n",
    "greatest_increase=max(changes)\n",
    "greatest_decrease=min(changes)\n",
    "greatest_increase_date=data[changes.index(greatest_increase) +1][0]\n",
    "greatest_decrease_date=data[changes.index(greatest_decrease) +1][0]"
   ]
  },
  {
   "cell_type": "code",
   "execution_count": 41,
   "id": "d813c356-9cfe-4152-a5e8-2f44a2c03d39",
   "metadata": {},
   "outputs": [
    {
     "name": "stdout",
     "output_type": "stream",
     "text": [
      "Total Months: 86\n",
      "Total: $22564198\n",
      "Average Change: $-8311.105882352942\n",
      "Greatest Increase in Profits: Aug-16 ($1862002)\n",
      "Greatest Decrease in Profits: Feb-14 ($-1825558)\n"
     ]
    }
   ],
   "source": [
    "#review financial analysis result\n",
    "print(f\"Total Months: {total_months}\")\n",
    "print(f\"Total: ${net_total}\")\n",
    "print(f\"Average Change: ${average_change}\")\n",
    "print(f\"Greatest Increase in Profits: {greatest_increase_date} (${greatest_increase})\")\n",
    "print(f\"Greatest Decrease in Profits: {greatest_decrease_date} (${greatest_decrease})\")"
   ]
  },
  {
   "cell_type": "code",
   "execution_count": 47,
   "id": "43212f9b-cec4-44b8-9432-7e7748918e05",
   "metadata": {},
   "outputs": [],
   "source": [
    "#consolidate result into report.\n",
    "report=[\n",
    "    \"Financial Analysis\",\n",
    "    \"----------------------------\",\n",
    "    f\"Total Months: {total_months}\",\n",
    "    f\"Total: ${net_total}\",\n",
    "    f\"Average Change: ${average_change}\",\n",
    "    f\"Greatest Increase in Profits: {greatest_increase_date} (${greatest_increase})\",\n",
    "    f\"Greatest Decrease in Profits: {greatest_decrease_date} (${greatest_decrease})\"\n",
    "]\n",
    "report_str=\"\\n\".join(report)\n",
    "#error with write()in testing, argument must be str, google found \"\\n\" to join list"
   ]
  },
  {
   "cell_type": "code",
   "execution_count": 51,
   "id": "3cbc3904-6efd-43c6-b80f-215d9c57c345",
   "metadata": {},
   "outputs": [
    {
     "name": "stdout",
     "output_type": "stream",
     "text": [
      "Financial Analysis\n",
      "----------------------------\n",
      "Total Months: 86\n",
      "Total: $22564198\n",
      "Average Change: $-8311.105882352942\n",
      "Greatest Increase in Profits: Aug-16 ($1862002)\n",
      "Greatest Decrease in Profits: Feb-14 ($-1825558)\n"
     ]
    }
   ],
   "source": [
    "print(report_str)"
   ]
  },
  {
   "cell_type": "code",
   "execution_count": 53,
   "id": "65812dfb-6be6-4393-b3de-304d9aa011e5",
   "metadata": {},
   "outputs": [],
   "source": [
    "with open('financial_analysis.txt','w') as file:\n",
    "    file.write(report_str)"
   ]
  },
  {
   "cell_type": "code",
   "execution_count": null,
   "id": "a07d67f0-5e91-47de-a1ff-73dc268926aa",
   "metadata": {},
   "outputs": [],
   "source": []
  }
 ],
 "metadata": {
  "kernelspec": {
   "display_name": "Python [conda env:base] *",
   "language": "python",
   "name": "conda-base-py"
  },
  "language_info": {
   "codemirror_mode": {
    "name": "ipython",
    "version": 3
   },
   "file_extension": ".py",
   "mimetype": "text/x-python",
   "name": "python",
   "nbconvert_exporter": "python",
   "pygments_lexer": "ipython3",
   "version": "3.12.7"
  }
 },
 "nbformat": 4,
 "nbformat_minor": 5
}
